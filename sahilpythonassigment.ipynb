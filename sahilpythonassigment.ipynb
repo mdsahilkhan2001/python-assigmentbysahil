{
 "cells": [
  {
   "cell_type": "markdown",
   "id": "6ab613f8",
   "metadata": {},
   "source": [
    "# Q1. Explain with an example each when to use a for loop and a while loop."
   ]
  },
  {
   "cell_type": "code",
   "execution_count": null,
   "id": "94ee44ca",
   "metadata": {},
   "outputs": [],
   "source": [
    "#When to Use a for Loop\n",
    "#A for loop is typically used when you know in advance how many times you want to iterate through a sequence of elements, such as a list or a range of numbers.\n",
    "\n",
    "E#xample: Iterating through a List"
   ]
  },
  {
   "cell_type": "code",
   "execution_count": null,
   "id": "4c6c9f71",
   "metadata": {},
   "outputs": [],
   "source": []
  },
  {
   "cell_type": "code",
   "execution_count": 2,
   "id": "e9c4f4e6",
   "metadata": {},
   "outputs": [
    {
     "name": "stdout",
     "output_type": "stream",
     "text": [
      "Hello, Sahil!\n",
      "Hello, Bob!\n",
      "Hello, Charlie!\n",
      "Hello, David!\n"
     ]
    }
   ],
   "source": [
    "# Iterating through a list of names\n",
    "names = [\"Sahil\", \"Bob\", \"Charlie\", \"David\"]\n",
    "\n",
    "for name in names:\n",
    "    print(f\"Hello, {name}!\")\n"
   ]
  },
  {
   "cell_type": "code",
   "execution_count": null,
   "id": "34c41a54",
   "metadata": {},
   "outputs": [],
   "source": [
    "#When to Use a while Loop\n",
    "#A while loop is used when you want to repeat a block of code until a condition becomes False. It's useful when you don't know in advance how many times the loop will need to iterate.\n",
    "\n",
    "#Example: Summing Numbers Until a Condition"
   ]
  },
  {
   "cell_type": "code",
   "execution_count": 3,
   "id": "74fa0018",
   "metadata": {},
   "outputs": [
    {
     "name": "stdout",
     "output_type": "stream",
     "text": [
      "The sum is 105\n"
     ]
    }
   ],
   "source": [
    "# Summing numbers until the sum reaches 100\n",
    "total = 0\n",
    "num = 1\n",
    "\n",
    "while total < 100:\n",
    "    total += num\n",
    "    num += 1\n",
    "\n",
    "print(f\"The sum is {total}\")\n"
   ]
  },
  {
   "cell_type": "code",
   "execution_count": null,
   "id": "841a446e",
   "metadata": {},
   "outputs": [],
   "source": [
    "#Use for loops when you know the number of iterations beforehand, such as iterating through a list or range.\n",
    "#Use while loops when you need to repeat a block of code until a condition becomes False, and you may not know how many iterations are needed in advance."
   ]
  },
  {
   "cell_type": "markdown",
   "id": "b4286cd1",
   "metadata": {},
   "source": [
    "# Q2. Write a python program to print the sum and product of the first 10 natural numbers using for and while loop.\n"
   ]
  },
  {
   "cell_type": "code",
   "execution_count": 4,
   "id": "3962c5c7",
   "metadata": {},
   "outputs": [
    {
     "name": "stdout",
     "output_type": "stream",
     "text": [
      "Using for loop:\n",
      "Sum of first 10 natural numbers: 55\n",
      "Product of first 10 natural numbers: 3628800\n"
     ]
    }
   ],
   "source": [
    "#using for loop\n",
    "# Calculate sum and product using for loop\n",
    "n = 10\n",
    "sum_n = 0\n",
    "product_n = 1\n",
    "\n",
    "# Sum and Product calculation using for loop\n",
    "for i in range(1, n + 1):\n",
    "    sum_n += i\n",
    "    product_n *= i\n",
    "\n",
    "# Print results\n",
    "print(f\"Using for loop:\")\n",
    "print(f\"Sum of first {n} natural numbers: {sum_n}\")\n",
    "print(f\"Product of first {n} natural numbers: {product_n}\")\n"
   ]
  },
  {
   "cell_type": "code",
   "execution_count": 5,
   "id": "1fc508fe",
   "metadata": {},
   "outputs": [
    {
     "name": "stdout",
     "output_type": "stream",
     "text": [
      "\n",
      "Using while loop:\n",
      "Sum of first 10 natural numbers: 55\n",
      "Product of first 10 natural numbers: 3628800\n"
     ]
    }
   ],
   "source": [
    "#using while loop\n",
    "# Calculate sum and product using while loop\n",
    "n = 10\n",
    "sum_n = 0\n",
    "product_n = 1\n",
    "i = 1\n",
    "\n",
    "# Sum and Product calculation using while loop\n",
    "while i <= n:\n",
    "    sum_n += i\n",
    "    product_n *= i\n",
    "    i += 1\n",
    "\n",
    "# Print results\n",
    "print(f\"\\nUsing while loop:\")\n",
    "print(f\"Sum of first {n} natural numbers: {sum_n}\")\n",
    "print(f\"Product of first {n} natural numbers: {product_n}\")\n"
   ]
  },
  {
   "cell_type": "markdown",
   "id": "47439eed",
   "metadata": {},
   "source": [
    "# Q no 3.Create a python program to compute the electricity bill for a household. The per-unit charges in rupees are as follows: For the first 100 units, the user will be charged Rs. 4.5 per unit, for the next 100 units, the user will be charged Rs. 6 per unit, and for the next 100 units, the user will be charged Rs. 10 per unit, After 300 units and above the user will be charged Rs. 20 per unit. You are required to take the units of electricity consumed in a month from the user as input. Your program must pass this test case: when the unit of electricity consumed by the user in a month is 310, the total electricity bill should be 2250."
   ]
  },
  {
   "cell_type": "code",
   "execution_count": 6,
   "id": "3b7c3498",
   "metadata": {},
   "outputs": [
    {
     "name": "stdout",
     "output_type": "stream",
     "text": [
      "The total electricity bill for 310 units is: Rs. 2250.0\n"
     ]
    }
   ],
   "source": [
    " def calculate_electricity_bill(units):\n",
    "    if units <= 100:\n",
    "        bill = units * 4.5\n",
    "    elif units <= 200:\n",
    "        bill = 100 * 4.5 + (units - 100) * 6\n",
    "    elif units <= 300:\n",
    "        bill = 100 * 4.5 + 100 * 6 + (units - 200) * 10\n",
    "    else:\n",
    "        bill = 100 * 4.5 + 100 * 6 + 100 * 10 + (units - 300) * 20\n",
    "    return bill\n",
    "\n",
    "# Example usage and test case\n",
    "units_consumed = 310\n",
    "electricity_bill = calculate_electricity_bill(units_consumed)\n",
    "print(f\"The total electricity bill for {units_consumed} units is: Rs. {electricity_bill}\")\n"
   ]
  },
  {
   "cell_type": "code",
   "execution_count": null,
   "id": "e604c989",
   "metadata": {},
   "outputs": [],
   "source": []
  },
  {
   "cell_type": "markdown",
   "id": "b61aa432",
   "metadata": {},
   "source": [
    "# #Q4. Create a list of numbers from 1 to 100. Use for loop and while loop to calculate the cube of each number and if the cube of that number is divisible by 4 or 5 then append that number in a list and print that list."
   ]
  },
  {
   "cell_type": "code",
   "execution_count": 7,
   "id": "0fe3c663",
   "metadata": {},
   "outputs": [
    {
     "name": "stdout",
     "output_type": "stream",
     "text": [
      "Numbers whose cube is divisible by 4 or 5:\n",
      "[2, 4, 5, 6, 8, 10, 12, 14, 15, 16, 18, 20, 22, 24, 25, 26, 28, 30, 32, 34, 35, 36, 38, 40, 42, 44, 45, 46, 48, 50, 52, 54, 55, 56, 58, 60, 62, 64, 65, 66, 68, 70, 72, 74, 75, 76, 78, 80, 82, 84, 85, 86, 88, 90, 92, 94, 95, 96, 98, 100]\n"
     ]
    }
   ],
   "source": [
    "#usig for loop\n",
    "# Initialize an empty list to store numbers whose cubes are divisible by 4 or 5\n",
    "result_list = []\n",
    "\n",
    "# Using for loop to iterate over numbers from 1 to 100\n",
    "for num in range(1, 101):\n",
    "    cube = num ** 3\n",
    "    if cube % 4 == 0 or cube % 5 == 0:\n",
    "        result_list.append(num)\n",
    "\n",
    "# Print the list of numbers\n",
    "print(\"Numbers whose cube is divisible by 4 or 5:\")\n",
    "print(result_list)\n"
   ]
  },
  {
   "cell_type": "code",
   "execution_count": 8,
   "id": "df063d9c",
   "metadata": {},
   "outputs": [
    {
     "name": "stdout",
     "output_type": "stream",
     "text": [
      "Numbers whose cube is divisible by 4 or 5:\n",
      "[2, 4, 5, 6, 8, 10, 12, 14, 15, 16, 18, 20, 22, 24, 25, 26, 28, 30, 32, 34, 35, 36, 38, 40, 42, 44, 45, 46, 48, 50, 52, 54, 55, 56, 58, 60, 62, 64, 65, 66, 68, 70, 72, 74, 75, 76, 78, 80, 82, 84, 85, 86, 88, 90, 92, 94, 95, 96, 98, 100]\n"
     ]
    }
   ],
   "source": [
    "#using while loop\n",
    "# Initialize variables\n",
    "num = 1\n",
    "result_list = []\n",
    "\n",
    "# Using while loop to iterate over numbers from 1 to 100\n",
    "while num <= 100:\n",
    "    cube = num ** 3\n",
    "    if cube % 4 == 0 or cube % 5 == 0:\n",
    "        result_list.append(num)\n",
    "    num += 1\n",
    "\n",
    "# Print the list of numbers\n",
    "print(\"Numbers whose cube is divisible by 4 or 5:\")\n",
    "print(result_list)\n"
   ]
  },
  {
   "cell_type": "markdown",
   "id": "e1ce8d17",
   "metadata": {},
   "source": [
    "# Q5. Write a program to filter count vowels in the below-given string. string = \"I want to become a data scientist\""
   ]
  },
  {
   "cell_type": "code",
   "execution_count": 9,
   "id": "234369b4",
   "metadata": {},
   "outputs": [
    {
     "name": "stdout",
     "output_type": "stream",
     "text": [
      "Total number of vowels in the string: 12\n",
      "List of vowels in the string: ['I', 'a', 'o', 'e', 'o', 'e', 'a', 'a', 'a', 'i', 'e', 'i']\n"
     ]
    }
   ],
   "source": [
    "def count_vowels(string):\n",
    "    vowels = \"aeiouAEIOU\"\n",
    "    vowel_count = 0\n",
    "    vowel_list = []\n",
    "\n",
    "    for char in string:\n",
    "        if char in vowels:\n",
    "            vowel_count += 1\n",
    "            vowel_list.append(char)\n",
    "\n",
    "    return vowel_count, vowel_list\n",
    "\n",
    "# Given string\n",
    "string = \"I want to become a data scientist\"\n",
    "\n",
    "# Count vowels and filter them\n",
    "total_vowels, vowels_list = count_vowels(string)\n",
    "\n",
    "# Print results\n",
    "print(f\"Total number of vowels in the string: {total_vowels}\")\n",
    "print(f\"List of vowels in the string: {vowels_list}\")\n"
   ]
  },
  {
   "cell_type": "code",
   "execution_count": null,
   "id": "0a68da2b",
   "metadata": {},
   "outputs": [],
   "source": []
  }
 ],
 "metadata": {
  "kernelspec": {
   "display_name": "Python 3 (ipykernel)",
   "language": "python",
   "name": "python3"
  },
  "language_info": {
   "codemirror_mode": {
    "name": "ipython",
    "version": 3
   },
   "file_extension": ".py",
   "mimetype": "text/x-python",
   "name": "python",
   "nbconvert_exporter": "python",
   "pygments_lexer": "ipython3",
   "version": "3.11.5"
  }
 },
 "nbformat": 4,
 "nbformat_minor": 5
}
